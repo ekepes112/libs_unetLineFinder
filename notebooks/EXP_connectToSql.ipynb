{
 "cells": [
  {
   "cell_type": "code",
   "execution_count": 1,
   "metadata": {},
   "outputs": [],
   "source": [
    "import pyodbc"
   ]
  },
  {
   "cell_type": "code",
   "execution_count": 38,
   "metadata": {},
   "outputs": [],
   "source": [
    "sql_connection = pyodbc.connect(\n",
    "    'Driver={SQL Server};'\n",
    "    'Server=ERIK-OFFICE\\SQLEXPRESS;'\n",
    "    'Database=Tutorial;'\n",
    "    'Trusted_Connetion=yes;'\n",
    ")"
   ]
  },
  {
   "cell_type": "code",
   "execution_count": 39,
   "metadata": {},
   "outputs": [],
   "source": [
    "sql_cursor = sql_connection.cursor()"
   ]
  },
  {
   "cell_type": "code",
   "execution_count": 40,
   "metadata": {},
   "outputs": [],
   "source": [
    "location = '.archive'"
   ]
  },
  {
   "cell_type": "code",
   "execution_count": 41,
   "metadata": {},
   "outputs": [
    {
     "ename": "ProgrammingError",
     "evalue": "('42S01', \"[42S01] [Microsoft][ODBC SQL Server Driver][SQL Server]There is already an object named 'spectra' in the database. (2714) (SQLExecDirectW)\")",
     "output_type": "error",
     "traceback": [
      "\u001b[1;31m---------------------------------------------------------------------------\u001b[0m",
      "\u001b[1;31mProgrammingError\u001b[0m                          Traceback (most recent call last)",
      "Cell \u001b[1;32mIn[41], line 1\u001b[0m\n\u001b[1;32m----> 1\u001b[0m sql_cursor\u001b[39m.\u001b[39;49mexecute(\u001b[39m'''\u001b[39;49m\n\u001b[0;32m      2\u001b[0m \u001b[39m    CREATE TABLE spectra (\u001b[39;49m\n\u001b[0;32m      3\u001b[0m \u001b[39m        id INT PRIMARY KEY,\u001b[39;49m\n\u001b[0;32m      4\u001b[0m \u001b[39m        source VARCHAR(50),\u001b[39;49m\n\u001b[0;32m      5\u001b[0m \u001b[39m        location VARCHAR(50),\u001b[39;49m\n\u001b[0;32m      6\u001b[0m \u001b[39m        filename VARCHAR(50)\u001b[39;49m\n\u001b[0;32m      7\u001b[0m \u001b[39m    )\u001b[39;49m\n\u001b[0;32m      8\u001b[0m \u001b[39m'''\u001b[39;49m)\n",
      "\u001b[1;31mProgrammingError\u001b[0m: ('42S01', \"[42S01] [Microsoft][ODBC SQL Server Driver][SQL Server]There is already an object named 'spectra' in the database. (2714) (SQLExecDirectW)\")"
     ]
    }
   ],
   "source": [
    "sql_cursor.execute('''\n",
    "    CREATE TABLE spectra (\n",
    "        id INT PRIMARY KEY,\n",
    "        source VARCHAR(50),\n",
    "        location VARCHAR(50),\n",
    "        filename VARCHAR(50)\n",
    "    )\n",
    "''')"
   ]
  },
  {
   "cell_type": "code",
   "execution_count": 42,
   "metadata": {},
   "outputs": [
    {
     "ename": "IntegrityError",
     "evalue": "('23000', \"[23000] [Microsoft][ODBC SQL Server Driver][SQL Server]Violation of PRIMARY KEY constraint 'PK__spectra__3213E83F63A8B8A0'. Cannot insert duplicate key in object 'dbo.spectra'. The duplicate key value is (0). (2627) (SQLExecDirectW); [23000] [Microsoft][ODBC SQL Server Driver][SQL Server]The statement has been terminated. (3621)\")",
     "output_type": "error",
     "traceback": [
      "\u001b[1;31m---------------------------------------------------------------------------\u001b[0m",
      "\u001b[1;31mIntegrityError\u001b[0m                            Traceback (most recent call last)",
      "Cell \u001b[1;32mIn[42], line 1\u001b[0m\n\u001b[1;32m----> 1\u001b[0m sql_cursor\u001b[39m.\u001b[39;49mexecute(\n\u001b[0;32m      2\u001b[0m     \u001b[39m'\u001b[39;49m\u001b[39mINSERT INTO spectra (id, source, location, filename) VALUES (?, ?, ?, ?)\u001b[39;49m\u001b[39m'\u001b[39;49m,\n\u001b[0;32m      3\u001b[0m     (\u001b[39m0\u001b[39;49m,\u001b[39m'\u001b[39;49m\u001b[39mDeguchi\u001b[39;49m\u001b[39m'\u001b[39;49m,location,\u001b[39m'\u001b[39;49m\u001b[39ms001.asc\u001b[39;49m\u001b[39m'\u001b[39;49m)\n\u001b[0;32m      4\u001b[0m )\n",
      "\u001b[1;31mIntegrityError\u001b[0m: ('23000', \"[23000] [Microsoft][ODBC SQL Server Driver][SQL Server]Violation of PRIMARY KEY constraint 'PK__spectra__3213E83F63A8B8A0'. Cannot insert duplicate key in object 'dbo.spectra'. The duplicate key value is (0). (2627) (SQLExecDirectW); [23000] [Microsoft][ODBC SQL Server Driver][SQL Server]The statement has been terminated. (3621)\")"
     ]
    }
   ],
   "source": [
    "sql_cursor.execute(\n",
    "    'INSERT INTO spectra (id, source, location, filename) VALUES (?, ?, ?, ?)',\n",
    "    (0,'Deguchi',location,'s001.asc')\n",
    ")"
   ]
  },
  {
   "cell_type": "code",
   "execution_count": 29,
   "metadata": {},
   "outputs": [],
   "source": [
    "sql_connection.commit()\n",
    "sql_cursor.close()"
   ]
  },
  {
   "cell_type": "code",
   "execution_count": 43,
   "metadata": {},
   "outputs": [
    {
     "data": {
      "text/plain": [
       "<pyodbc.Cursor at 0x1ac8098f8b0>"
      ]
     },
     "execution_count": 43,
     "metadata": {},
     "output_type": "execute_result"
    }
   ],
   "source": [
    "sql_cursor.execute(\n",
    "    'SELECT * FROM spectra'\n",
    ")"
   ]
  },
  {
   "cell_type": "code",
   "execution_count": 44,
   "metadata": {},
   "outputs": [
    {
     "data": {
      "text/plain": [
       "(0, 'Deguchi', '.archive', 's001.asc')"
      ]
     },
     "execution_count": 44,
     "metadata": {},
     "output_type": "execute_result"
    }
   ],
   "source": [
    "row = sql_cursor.fetchone()\n",
    "row"
   ]
  },
  {
   "cell_type": "code",
   "execution_count": 45,
   "metadata": {},
   "outputs": [],
   "source": [
    "sql_connection.close()"
   ]
  }
 ],
 "metadata": {
  "kernelspec": {
   "display_name": "sqlTutorial",
   "language": "python",
   "name": "sqltutorial"
  },
  "language_info": {
   "codemirror_mode": {
    "name": "ipython",
    "version": 3
   },
   "file_extension": ".py",
   "mimetype": "text/x-python",
   "name": "python",
   "nbconvert_exporter": "python",
   "pygments_lexer": "ipython3",
   "version": "3.11.0"
  },
  "orig_nbformat": 4
 },
 "nbformat": 4,
 "nbformat_minor": 2
}
